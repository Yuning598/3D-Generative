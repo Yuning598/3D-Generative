{
 "cells": [
  {
   "cell_type": "code",
   "execution_count": 5,
   "metadata": {},
   "outputs": [
    {
     "name": "stdout",
     "output_type": "stream",
     "text": [
      "Looking in indexes: https://pypi.tuna.tsinghua.edu.cn/simple\n",
      "Requirement already satisfied: prettytable in d:\\mysoft\\anaconda3\\envs\\sbdd-3d\\lib\\site-packages (3.11.0)\n",
      "Requirement already satisfied: wcwidth in d:\\mysoft\\anaconda3\\envs\\sbdd-3d\\lib\\site-packages (from prettytable) (0.2.13)\n"
     ]
    }
   ],
   "source": [
    "# !pip install websocket\n",
    "# !pip install websocket_client\n",
    "# !pip install prettytable"
   ]
  },
  {
   "cell_type": "code",
   "execution_count": 1,
   "metadata": {},
   "outputs": [],
   "source": [
    "import pandas as pd"
   ]
  },
  {
   "cell_type": "code",
   "execution_count": 2,
   "metadata": {},
   "outputs": [
    {
     "name": "stderr",
     "output_type": "stream",
     "text": [
      "Fri 13 Sep 2024 08:46:14 CsmarService.py INFO User login succeed\n"
     ]
    }
   ],
   "source": [
    "from csmarapi.ReportUtil import ReportUtil\n",
    "from csmarapi.CsmarService import CsmarService\n",
    "csmar = CsmarService()\n",
    "# login(account,pwd,lang)\n",
    "csmar.login('15259506516', 'oncezzh757699')"
   ]
  },
  {
   "cell_type": "code",
   "execution_count": 3,
   "metadata": {},
   "outputs": [
    {
     "name": "stderr",
     "output_type": "stream",
     "text": [
      "Fri 13 Sep 2024 08:46:36 connectionpool.py WARNING Retrying (Retry(total=2, connect=None, read=None, redirect=None, status=None)) after connection broken by 'NewConnectionError('<urllib3.connection.HTTPSConnection object at 0x000001FE73B79700>: Failed to establish a new connection: [WinError 10060] 由于连接方在一段时间后没有正确答复或连接的主机没有反应，连接尝试失败。')': /api/csmar-main/python/listTables?dbName=%E6%9C%BA%E6%9E%84%E6%8A%95%E8%B5%84%E8%80%85\n",
      "Fri 13 Sep 2024 08:46:57 connectionpool.py WARNING Retrying (Retry(total=1, connect=None, read=None, redirect=None, status=None)) after connection broken by 'NewConnectionError('<urllib3.connection.HTTPSConnection object at 0x000001FE73B795E0>: Failed to establish a new connection: [WinError 10060] 由于连接方在一段时间后没有正确答复或连接的主机没有反应，连接尝试失败。')': /api/csmar-main/python/listTables?dbName=%E6%9C%BA%E6%9E%84%E6%8A%95%E8%B5%84%E8%80%85\n"
     ]
    },
    {
     "name": "stdout",
     "output_type": "stream",
     "text": [
      "+-----------------------+--------------------+------------+------------+\n",
      "|         table         |     tableName      | startTime  |  endTime   |\n",
      "+-----------------------+--------------------+------------+------------+\n",
      "| INI_HolderSystematics | 机构持股分类统计表 | 1998-06-30 | 2024-06-30 |\n",
      "| INI_Holder_IncrOrDesr |  机构增减持统计表  | 1998-06-30 | 2024-06-30 |\n",
      "|   INI_Holder_Detail   |   机构持股明细表   | 1998-06-30 | 2024-06-30 |\n",
      "+-----------------------+--------------------+------------+------------+\n"
     ]
    },
    {
     "data": {
      "text/plain": [
       "<csmarapi.ReportUtil.ReportUtil at 0x1fe70826160>"
      ]
     },
     "execution_count": 3,
     "metadata": {},
     "output_type": "execute_result"
    }
   ],
   "source": [
    "tables = csmar.getListTables('机构投资者')\n",
    "ReportUtil(tables)"
   ]
  },
  {
   "cell_type": "code",
   "execution_count": 4,
   "metadata": {},
   "outputs": [
    {
     "name": "stdout",
     "output_type": "stream",
     "text": [
      "+---------------------+---------------------------+-----------+----------+----------+\n",
      "|        field        |         fieldName         | fieldType | ableNull | fieldKey |\n",
      "+---------------------+---------------------------+-----------+----------+----------+\n",
      "|        Symbol       |          股票代码         |  varchar  |   YES    |   Code   |\n",
      "|       EndDate       |          截止日期         |  varchar  |   YES    |   Date   |\n",
      "|    SystematicsID    |        机构分类编码       |  varchar  |   YES    |          |\n",
      "|     Systematics     |          机构分类         |  varchar  |   YES    |          |\n",
      "|   ShareHolderName   |          持股机构         |  varchar  |   YES    |          |\n",
      "|     CategoryCode    |        股东类别编码       |  varchar  |   YES    |          |\n",
      "|      Holdshares     |          持股数量         |  decimal  |   YES    |          |\n",
      "|    HoldProportion   |    持股比例(相对总股本)   |  decimal  |   YES    |          |\n",
      "|        Price        |          股票价格         |  decimal  |   YES    |          |\n",
      "|     LastEndDate     |      上期统计截止日期     |  varchar  |   YES    |          |\n",
      "|  LastShareHolderID  |       上期持股机构ID      |  decimal  |   YES    |          |\n",
      "|    LastHoldshares   |        上期持股数量       |  decimal  |   YES    |          |\n",
      "|  LastHoldProportion |  上期持股比例(相对总股本) |  decimal  |   YES    |          |\n",
      "|      LastPrice      |        上期股票价格       |  decimal  |   YES    |          |\n",
      "|     RightsRatio     |     期间送转增配股比例    |  decimal  |   YES    |          |\n",
      "|        Status       |        增减维持标识       |  varchar  |   YES    |          |\n",
      "|     IndustryCode    |          行业代码         |    None   |   None   |          |\n",
      "|     IndustryName    |          行业名称         |  varchar  |   YES    |          |\n",
      "|        Source       |          数据来源         |  varchar  |   YES    |          |\n",
      "|    ShareHolderID    |         持股机构ID        |  decimal  |   YES    |          |\n",
      "|    InstitutionID    |         上市公司ID        |  decimal  |   YES    |          |\n",
      "|        FundID       |     股东ID对应的基金ID    |  decimal  |   YES    |          |\n",
      "|   HoldProportion1   |   持股比例(相对流通A股)   |  decimal  |   YES    |          |\n",
      "| LastHoldProportion1 | 上期持股比例(相对流通A股) |  decimal  |   YES    |          |\n",
      "|    IndustryCode1    |         行业代码1         |  varchar  |   YES    |          |\n",
      "|    IndustryName1    |         行业名称1         |  varchar  |   YES    |          |\n",
      "+---------------------+---------------------------+-----------+----------+----------+\n"
     ]
    },
    {
     "data": {
      "text/plain": [
       "<csmarapi.ReportUtil.ReportUtil at 0x1fe7080ff10>"
      ]
     },
     "execution_count": 4,
     "metadata": {},
     "output_type": "execute_result"
    }
   ],
   "source": [
    "fields = csmar.getListFields('INI_Holder_Detail')\n",
    "ReportUtil(fields)"
   ]
  },
  {
   "cell_type": "code",
   "execution_count": 5,
   "metadata": {},
   "outputs": [
    {
     "data": {
      "text/plain": [
       "['Symbol',\n",
       " 'EndDate',\n",
       " 'SystematicsID',\n",
       " 'Systematics',\n",
       " 'ShareHolderName',\n",
       " 'CategoryCode',\n",
       " 'Holdshares',\n",
       " 'HoldProportion',\n",
       " 'Price',\n",
       " 'LastEndDate',\n",
       " 'LastShareHolderID',\n",
       " 'LastHoldshares',\n",
       " 'LastHoldProportion',\n",
       " 'LastPrice',\n",
       " 'RightsRatio',\n",
       " 'Status',\n",
       " 'IndustryCode',\n",
       " 'IndustryName',\n",
       " 'Source',\n",
       " 'ShareHolderID',\n",
       " 'InstitutionID',\n",
       " 'FundID',\n",
       " 'HoldProportion1',\n",
       " 'LastHoldProportion1',\n",
       " 'IndustryCode1',\n",
       " 'IndustryName1']"
      ]
     },
     "execution_count": 5,
     "metadata": {},
     "output_type": "execute_result"
    }
   ],
   "source": [
    "columns = [field['field'] for field in fields]\n",
    "columns"
   ]
  },
  {
   "cell_type": "code",
   "execution_count": 6,
   "metadata": {},
   "outputs": [
    {
     "name": "stderr",
     "output_type": "stream",
     "text": [
      "Fri 13 Sep 2024 08:47:28 CsmarService.py ERROR Please don't submit your request repeatedly.【请不要重复提交相同请求】\n",
      "Fri 13 Sep 2024 08:47:29 CsmarService.py INFO packaging return code：signCode=1284072942737592320\n",
      "Fri 13 Sep 2024 08:47:30 CsmarService.py INFO downloading...\n"
     ]
    },
    {
     "name": "stdout",
     "output_type": "stream",
     "text": [
      "|▇▇▇▇▇▇▇▇▇▇▇▇▇▇▇▇▇▇▇▇|100%"
     ]
    },
    {
     "name": "stderr",
     "output_type": "stream",
     "text": [
      "Fri 13 Sep 2024 08:51:09 CsmarService.py INFO Package successfully. File size is：90.3MB\n"
     ]
    },
    {
     "name": "stdout",
     "output_type": "stream",
     "text": [
      "\n",
      "\n"
     ]
    },
    {
     "name": "stderr",
     "output_type": "stream",
     "text": [
      "Fri 13 Sep 2024 08:51:15 CsmarService.py INFO Generate the local file path as ：c:\\csmardata\\zip\\1284072942737592320.zip\n"
     ]
    },
    {
     "ename": "TypeError",
     "evalue": "object of type 'NoneType' has no len()",
     "output_type": "error",
     "traceback": [
      "\u001b[1;31m---------------------------------------------------------------------------\u001b[0m",
      "\u001b[1;31mTypeError\u001b[0m                                 Traceback (most recent call last)",
      "Cell \u001b[1;32mIn[6], line 32\u001b[0m\n\u001b[0;32m     27\u001b[0m csmar\u001b[39m.\u001b[39mgetPackResultExt(columns, condition, \n\u001b[0;32m     28\u001b[0m                        \u001b[39m'\u001b[39m\u001b[39mINI_Holder_Detail\u001b[39m\u001b[39m'\u001b[39m, \n\u001b[0;32m     29\u001b[0m                        start_date, end_date)\n\u001b[0;32m     31\u001b[0m \u001b[39m# 检查返回的数据量是否小于分页大小，停止查询\u001b[39;00m\n\u001b[1;32m---> 32\u001b[0m \u001b[39mif\u001b[39;00m \u001b[39mlen\u001b[39;49m(data_part) \u001b[39m<\u001b[39m batch_size:\n\u001b[0;32m     33\u001b[0m     \u001b[39mbreak\u001b[39;00m\n\u001b[0;32m     35\u001b[0m \u001b[39m# 更新偏移量\u001b[39;00m\n",
      "\u001b[1;31mTypeError\u001b[0m: object of type 'NoneType' has no len()"
     ]
    }
   ],
   "source": [
    "# 分批下载并打包数据\n",
    "batch_size = 200000\n",
    "offset = 0\n",
    "\n",
    "# 定义开始和结束日期，20年分多个时间段进行查询\n",
    "time_ranges = [\n",
    "    # ('2004-01-01', '2009-12-31'),  # 第一个6年\n",
    "    # ('2010-01-01', '2015-12-31'),  # 第二个6年\n",
    "    # ('2016-01-01', '2021-12-31'),  # 第三个6年\n",
    "    ('2022-01-01', '2023-12-31')   # 最后两年\n",
    "]\n",
    "\n",
    "# 遍历每个时间区间\n",
    "for start_date, end_date in time_ranges:\n",
    "    offset = 0  # 每个时间段从偏移量0开始\n",
    "\n",
    "    while True:\n",
    "        # 构建分页查询条件\n",
    "        condition = f\"limit {offset},{batch_size}\"\n",
    "        \n",
    "        # 查询数据\n",
    "        data_part = csmar.query_df(columns, condition, \n",
    "                                   'INI_Holder_Detail', \n",
    "                                   start_date, end_date)\n",
    "        \n",
    "        # 调用打包下载函数\n",
    "        csmar.getPackResultExt(columns, condition, \n",
    "                               'INI_Holder_Detail', \n",
    "                               start_date, end_date)\n",
    "        \n",
    "        # 检查返回的数据量是否小于分页大小，停止查询\n",
    "        if len(data_part) < batch_size:\n",
    "            break\n",
    "        \n",
    "        # 更新偏移量\n",
    "        offset += batch_size\n"
   ]
  },
  {
   "cell_type": "code",
   "execution_count": null,
   "metadata": {},
   "outputs": [],
   "source": []
  }
 ],
 "metadata": {
  "language_info": {
   "name": "python"
  }
 },
 "nbformat": 4,
 "nbformat_minor": 2
}
